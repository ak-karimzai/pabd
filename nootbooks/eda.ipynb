{
 "cells": [
  {
   "metadata": {
    "ExecuteTime": {
     "end_time": "2025-05-14T16:21:33.982037Z",
     "start_time": "2025-05-14T16:21:33.966604Z"
    }
   },
   "cell_type": "code",
   "source": [
    "import os\n",
    "import pandas as pd\n",
    "import glob \n",
    "import matplotlib.pyplot as plt\n",
    "import numpy as np"
   ],
   "id": "c63091f88c1cf274",
   "outputs": [
    {
     "ename": "ModuleNotFoundError",
     "evalue": "No module named 'pandas'",
     "output_type": "error",
     "traceback": [
      "\u001B[31m---------------------------------------------------------------------------\u001B[39m",
      "\u001B[31mModuleNotFoundError\u001B[39m                       Traceback (most recent call last)",
      "\u001B[36mCell\u001B[39m\u001B[36m \u001B[39m\u001B[32mIn[5]\u001B[39m\u001B[32m, line 2\u001B[39m\n\u001B[32m      1\u001B[39m \u001B[38;5;28;01mimport\u001B[39;00m\u001B[38;5;250m \u001B[39m\u001B[34;01mos\u001B[39;00m\n\u001B[32m----> \u001B[39m\u001B[32m2\u001B[39m \u001B[38;5;28;01mimport\u001B[39;00m\u001B[38;5;250m \u001B[39m\u001B[34;01mpandas\u001B[39;00m\u001B[38;5;250m \u001B[39m\u001B[38;5;28;01mas\u001B[39;00m\u001B[38;5;250m \u001B[39m\u001B[34;01mpd\u001B[39;00m\n\u001B[32m      3\u001B[39m \u001B[38;5;28;01mimport\u001B[39;00m\u001B[38;5;250m \u001B[39m\u001B[34;01mglob\u001B[39;00m \n\u001B[32m      4\u001B[39m \u001B[38;5;28;01mimport\u001B[39;00m\u001B[38;5;250m \u001B[39m\u001B[34;01mmatplotlib\u001B[39;00m\u001B[34;01m.\u001B[39;00m\u001B[34;01mpyplot\u001B[39;00m\u001B[38;5;250m \u001B[39m\u001B[38;5;28;01mas\u001B[39;00m\u001B[38;5;250m \u001B[39m\u001B[34;01mplt\u001B[39;00m\n",
      "\u001B[31mModuleNotFoundError\u001B[39m: No module named 'pandas'"
     ]
    }
   ],
   "execution_count": 5
  },
  {
   "cell_type": "code",
   "id": "initial_id",
   "metadata": {
    "collapsed": true,
    "ExecuteTime": {
     "end_time": "2025-05-14T16:21:34.348059Z",
     "start_time": "2025-05-14T16:21:34.329128Z"
    }
   },
   "source": [
    "file_pattern = os.path.join(\"..\", \"data\", \"raw\", \"*.csv\")\n",
    "file_list = glob.glob(file_pattern) "
   ],
   "outputs": [
    {
     "ename": "NameError",
     "evalue": "name 'glob' is not defined",
     "output_type": "error",
     "traceback": [
      "\u001B[31m---------------------------------------------------------------------------\u001B[39m",
      "\u001B[31mNameError\u001B[39m                                 Traceback (most recent call last)",
      "\u001B[36mCell\u001B[39m\u001B[36m \u001B[39m\u001B[32mIn[6]\u001B[39m\u001B[32m, line 2\u001B[39m\n\u001B[32m      1\u001B[39m file_pattern = os.path.join(\u001B[33m\"\u001B[39m\u001B[33m..\u001B[39m\u001B[33m\"\u001B[39m, \u001B[33m\"\u001B[39m\u001B[33mdata\u001B[39m\u001B[33m\"\u001B[39m, \u001B[33m\"\u001B[39m\u001B[33mraw\u001B[39m\u001B[33m\"\u001B[39m, \u001B[33m\"\u001B[39m\u001B[33m*.csv\u001B[39m\u001B[33m\"\u001B[39m)\n\u001B[32m----> \u001B[39m\u001B[32m2\u001B[39m file_list = \u001B[43mglob\u001B[49m.glob(file_pattern) \n",
      "\u001B[31mNameError\u001B[39m: name 'glob' is not defined"
     ]
    }
   ],
   "execution_count": 6
  },
  {
   "metadata": {
    "ExecuteTime": {
     "end_time": "2025-05-14T16:21:34.509813Z",
     "start_time": "2025-05-14T16:21:34.494526Z"
    }
   },
   "cell_type": "code",
   "source": "file_list",
   "id": "48f04b430bddaed3",
   "outputs": [
    {
     "ename": "NameError",
     "evalue": "name 'file_list' is not defined",
     "output_type": "error",
     "traceback": [
      "\u001B[31m---------------------------------------------------------------------------\u001B[39m",
      "\u001B[31mNameError\u001B[39m                                 Traceback (most recent call last)",
      "\u001B[36mCell\u001B[39m\u001B[36m \u001B[39m\u001B[32mIn[7]\u001B[39m\u001B[32m, line 1\u001B[39m\n\u001B[32m----> \u001B[39m\u001B[32m1\u001B[39m \u001B[43mfile_list\u001B[49m\n",
      "\u001B[31mNameError\u001B[39m: name 'file_list' is not defined"
     ]
    }
   ],
   "execution_count": 7
  },
  {
   "metadata": {
    "ExecuteTime": {
     "end_time": "2025-05-14T16:21:34.673989Z",
     "start_time": "2025-05-14T16:21:34.657293Z"
    }
   },
   "cell_type": "code",
   "source": [
    "main_dataframe = pd.read_csv(file_list[0])\n",
    "for i in range(1, len(file_list)): \n",
    "    data = pd.read_csv(file_list[i]) \n",
    "    df = pd.DataFrame(data) \n",
    "    main_dataframe = pd.concat([main_dataframe, df], axis=0) "
   ],
   "id": "a82f87aef100f990",
   "outputs": [
    {
     "ename": "NameError",
     "evalue": "name 'pd' is not defined",
     "output_type": "error",
     "traceback": [
      "\u001B[31m---------------------------------------------------------------------------\u001B[39m",
      "\u001B[31mNameError\u001B[39m                                 Traceback (most recent call last)",
      "\u001B[36mCell\u001B[39m\u001B[36m \u001B[39m\u001B[32mIn[8]\u001B[39m\u001B[32m, line 1\u001B[39m\n\u001B[32m----> \u001B[39m\u001B[32m1\u001B[39m main_dataframe = \u001B[43mpd\u001B[49m.read_csv(file_list[\u001B[32m0\u001B[39m])\n\u001B[32m      2\u001B[39m \u001B[38;5;28;01mfor\u001B[39;00m i \u001B[38;5;129;01min\u001B[39;00m \u001B[38;5;28mrange\u001B[39m(\u001B[32m1\u001B[39m, \u001B[38;5;28mlen\u001B[39m(file_list)): \n\u001B[32m      3\u001B[39m     data = pd.read_csv(file_list[i]) \n",
      "\u001B[31mNameError\u001B[39m: name 'pd' is not defined"
     ]
    }
   ],
   "execution_count": 8
  },
  {
   "metadata": {
    "ExecuteTime": {
     "end_time": "2025-05-14T16:21:34.889380Z",
     "start_time": "2025-05-14T16:21:34.873399Z"
    }
   },
   "cell_type": "code",
   "source": "main_dataframe",
   "id": "f4a136c6a7ad1687",
   "outputs": [
    {
     "ename": "NameError",
     "evalue": "name 'main_dataframe' is not defined",
     "output_type": "error",
     "traceback": [
      "\u001B[31m---------------------------------------------------------------------------\u001B[39m",
      "\u001B[31mNameError\u001B[39m                                 Traceback (most recent call last)",
      "\u001B[36mCell\u001B[39m\u001B[36m \u001B[39m\u001B[32mIn[9]\u001B[39m\u001B[32m, line 1\u001B[39m\n\u001B[32m----> \u001B[39m\u001B[32m1\u001B[39m \u001B[43mmain_dataframe\u001B[49m\n",
      "\u001B[31mNameError\u001B[39m: name 'main_dataframe' is not defined"
     ]
    }
   ],
   "execution_count": 9
  },
  {
   "metadata": {
    "ExecuteTime": {
     "end_time": "2025-05-14T16:21:35.618695Z",
     "start_time": "2025-05-14T16:21:35.593149Z"
    }
   },
   "cell_type": "code",
   "source": [
    "main_dataframe['url_id'] = main_dataframe['url'].map(lambda x: x.split('/')[-2])\n",
    "new_dataframe = main_dataframe[['url_id', 'total_meters', 'price']].set_index('url_id')"
   ],
   "id": "fe0ec32fc916d5c7",
   "outputs": [
    {
     "ename": "NameError",
     "evalue": "name 'main_dataframe' is not defined",
     "output_type": "error",
     "traceback": [
      "\u001B[31m---------------------------------------------------------------------------\u001B[39m",
      "\u001B[31mNameError\u001B[39m                                 Traceback (most recent call last)",
      "\u001B[36mCell\u001B[39m\u001B[36m \u001B[39m\u001B[32mIn[10]\u001B[39m\u001B[32m, line 1\u001B[39m\n\u001B[32m----> \u001B[39m\u001B[32m1\u001B[39m main_dataframe[\u001B[33m'\u001B[39m\u001B[33murl_id\u001B[39m\u001B[33m'\u001B[39m] = \u001B[43mmain_dataframe\u001B[49m[\u001B[33m'\u001B[39m\u001B[33murl\u001B[39m\u001B[33m'\u001B[39m].map(\u001B[38;5;28;01mlambda\u001B[39;00m x: x.split(\u001B[33m'\u001B[39m\u001B[33m/\u001B[39m\u001B[33m'\u001B[39m)[-\u001B[32m2\u001B[39m])\n\u001B[32m      2\u001B[39m new_dataframe = main_dataframe[[\u001B[33m'\u001B[39m\u001B[33murl_id\u001B[39m\u001B[33m'\u001B[39m, \u001B[33m'\u001B[39m\u001B[33mtotal_meters\u001B[39m\u001B[33m'\u001B[39m, \u001B[33m'\u001B[39m\u001B[33mprice\u001B[39m\u001B[33m'\u001B[39m]].set_index(\u001B[33m'\u001B[39m\u001B[33murl_id\u001B[39m\u001B[33m'\u001B[39m)\n",
      "\u001B[31mNameError\u001B[39m: name 'main_dataframe' is not defined"
     ]
    }
   ],
   "execution_count": 10
  },
  {
   "metadata": {
    "ExecuteTime": {
     "end_time": "2025-05-14T16:20:35.019825500Z",
     "start_time": "2025-05-07T16:40:37.164130Z"
    }
   },
   "cell_type": "code",
   "source": "new_dataframe['price'].hist()",
   "id": "8d8d20211ada5b22",
   "outputs": [
    {
     "data": {
      "text/plain": [
       "<Axes: >"
      ]
     },
     "execution_count": 17,
     "metadata": {},
     "output_type": "execute_result"
    },
    {
     "data": {
      "text/plain": [
       "<Figure size 640x480 with 1 Axes>"
      ],
      "image/png": "[encoded data removed]"
     },
     "metadata": {},
     "output_type": "display_data"
    }
   ],
   "execution_count": 17
  },
  {
   "metadata": {
    "ExecuteTime": {
     "end_time": "2025-05-14T16:20:35.019825500Z",
     "start_time": "2025-05-07T16:40:53.919695Z"
    }
   },
   "cell_type": "code",
   "source": [
    "new_df = new_dataframe[new_dataframe['price'] < 100_000_000]\n",
    "new_df = new_df[new_df['total_meters'] < 100]"
   ],
   "id": "4d7b4dcff68e6528",
   "outputs": [],
   "execution_count": 18
  },
  {
   "metadata": {
    "ExecuteTime": {
     "end_time": "2025-05-14T16:20:35.019825500Z",
     "start_time": "2025-05-07T16:41:05.053677Z"
    }
   },
   "cell_type": "code",
   "source": [
    "x = new_df['total_meters']\n",
    "y = new_df['price']\n",
    "\n",
    "plt.plot(x, y, 'o')\n",
    "\n",
    "m, b = np.polyfit(x, y, 1)\n",
    "\n",
    "plt.plot(x, m*x+b)"
   ],
   "id": "54790d9fd385262d",
   "outputs": [
    {
     "data": {
      "text/plain": [
       "[<matplotlib.lines.Line2D at 0x18b9ae26c60>]"
      ]
     },
     "execution_count": 19,
     "metadata": {},
     "output_type": "execute_result"
    },
    {
     "data": {
      "text/plain": [
       "<Figure size 640x480 with 1 Axes>"
      ],
      "image/png": "[encoded data removed]"
     },
     "metadata": {},
     "output_type": "display_data"
    }
   ],
   "execution_count": 19
  },
  {
   "metadata": {
    "ExecuteTime": {
     "end_time": "2025-05-14T16:20:35.020822100Z",
     "start_time": "2025-05-07T16:43:45.454202Z"
    }
   },
   "cell_type": "code",
   "source": [
    "train_path_dir = os.path.join(\"..\", \"data\", \"processed\")\n",
    "if not os.path.exists(train_path_dir):\n",
    "    os.mkdir(train_path_dir)\n",
    "\n",
    "train_file_path = os.path.join(train_path_dir, \"train.csv\")"
   ],
   "id": "97746dbd5ef0264a",
   "outputs": [],
   "execution_count": 20
  },
  {
   "metadata": {
    "ExecuteTime": {
     "end_time": "2025-05-14T16:20:35.020822100Z",
     "start_time": "2025-05-07T16:43:51.676798Z"
    }
   },
   "cell_type": "code",
   "source": "new_df.to_csv(train_file_path)",
   "id": "16f846b5219c6547",
   "outputs": [],
   "execution_count": 21
  },
  {
   "metadata": {},
   "cell_type": "code",
   "outputs": [],
   "execution_count": null,
   "source": "",
   "id": "ce79e1925ca5eda2"
  }
 ],
 "metadata": {
  "kernelspec": {
   "display_name": "Python 3",
   "language": "python",
   "name": "python3"
  },
  "language_info": {
   "codemirror_mode": {
    "name": "ipython",
    "version": 2
   },
   "file_extension": ".py",
   "mimetype": "text/x-python",
   "name": "python",
   "nbconvert_exporter": "python",
   "pygments_lexer": "ipython2",
   "version": "2.7.6"
  }
 },
 "nbformat": 4,
 "nbformat_minor": 5
}
